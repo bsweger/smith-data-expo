{
 "metadata": {
  "celltoolbar": "Slideshow",
  "name": "",
  "signature": "sha256:2d68d7b180aeb78b010ec524fe6d09c1600e65c040908126561efb10009b2a50"
 },
 "nbformat": 3,
 "nbformat_minor": 0,
 "worksheets": [
  {
   "cells": [
    {
     "cell_type": "code",
     "collapsed": false,
     "input": [
      "#apply styles to notebook (rather than doing it locally \n",
      "# via the profile custom.css file)\n",
      "from IPython.core.display import HTML\n",
      "css_file = 'media/style.css'\n",
      "HTML(open(css_file, \"r\").read())"
     ],
     "language": "python",
     "metadata": {
      "slideshow": {
       "slide_type": "skip"
      }
     },
     "outputs": [
      {
       "html": [
        "/* Adapted from https://github.com/ketch/teaching-numerics-with-notebooks */\n",
        "<style>\n",
        "\n",
        "#notebook_panel { /* main background */\n",
        "    background: #888;\n",
        "    color: #f6f6f6;\n",
        "}\n",
        "\n",
        "div.cell { \n",
        "    width: 100%;\n",
        "}\n",
        "\n",
        "div #notebook { /* centre the content */\n",
        "    background: #fff; /* white background for content */\n",
        "    width: 80%;\n",
        "    margin: auto;\n",
        "    padding-left: 1em;\n",
        "}\n",
        "\n",
        "div #notebook-container {\n",
        "    width: 80%;\n",
        "}\n",
        "\n",
        "#notebook li { /* More space between bullet points */\n",
        "margin-top:0.6em;\n",
        "}\n",
        "\n",
        "/* draw border around running cells */\n",
        "div.cell.border-box-sizing.code_cell.running {\n",
        "    border: 3px solid #111;\n",
        "}\n",
        "\n",
        "/* Put a solid color box around each cell and its output, visually linking them together */\n",
        "div.cell.code_cell {\n",
        "    background-color: rgba(171,165,131,0.3); \n",
        "    border-radius: 10px; /* rounded borders */\n",
        "    padding: 1em;\n",
        "    margin-top: 1em;\n",
        "}\n",
        "\n",
        "div.text_cell_render{\n",
        "    font-family: 'Cambria,Georgia,\"Times New Roman\"';\n",
        "    line-height: 135%;\n",
        "    font-size: 130%;\n",
        "    width:700px;\n",
        "    margin-left:auto;\n",
        "    margin-right:auto;\n",
        "}\n",
        "\n",
        "/* Formatting for header cells */\n",
        ".text_cell_render h1,h2,h3,h4,h5,h6 {\n",
        "    font-family: 'freight-sans-pro', 'Myriad Pro', 'Lucida Grande', 'Lucida Sans Unicode', 'Lucida Sans', Verdana, Helvetica, Arial;\n",
        "    font-weight: 400;\n",
        "    /*margin-bottom: 0.1em;*/\n",
        "    margin-top: 0.2em;\n",
        "    display: block;\n",
        "}\t\n",
        "\n",
        ".text_cell_render h1 {\n",
        "    font-size: 32pt;\n",
        "    line-height: 100%;\n",
        "    color: rgb(12,85,97);\n",
        "}\n",
        "\n",
        ".text_cell_render h2 {\n",
        "    font-weight: 700;\n",
        "    font-size: 24pt;\n",
        "    line-height: 100%;\n",
        "    color: #364447;\n",
        "    display: block;\n",
        "}\t\n",
        "\n",
        ".text_cell_render h3 {\n",
        "    font-style: italic;\n",
        "    color: #364447;\n",
        "}\n",
        "\n",
        "</style>"
       ],
       "metadata": {},
       "output_type": "pyout",
       "prompt_number": 3,
       "text": [
        "<IPython.core.display.HTML at 0x3ae8fd0>"
       ]
      }
     ],
     "prompt_number": 3
    },
    {
     "cell_type": "markdown",
     "metadata": {
      "slideshow": {
       "slide_type": "slide"
      }
     },
     "source": [
      "#Data Expo 2014\n",
      "\n",
      "<div style=\"margin-top: 125px;\">\n",
      "![](media/npp.png)\n",
      "</div>"
     ]
    },
    {
     "cell_type": "markdown",
     "metadata": {
      "slideshow": {
       "slide_type": "slide"
      }
     },
     "source": [
      "![National Priorities Project](media/npp-home-page.png \"National Priorities Project\") \n",
      "[NPP Home Page](http://nationalpriorities.org \"National Priorities Project\")"
     ]
    },
    {
     "cell_type": "markdown",
     "metadata": {
      "slideshow": {
       "slide_type": "slide"
      }
     },
     "source": [
      "#$3.6 Trillion"
     ]
    },
    {
     "cell_type": "markdown",
     "metadata": {
      "slideshow": {
       "slide_type": "slide"
      }
     },
     "source": [
      "![Cost of National Security](media/cons.png \"Cost of National Security\") \n",
      "[Cost of National Security](https://www.nationalpriorities.org/cost-of/ \"Cost of National Security\")"
     ]
    },
    {
     "cell_type": "markdown",
     "metadata": {
      "slideshow": {
       "slide_type": "slide"
      }
     },
     "source": [
      "![Faces of the Federal Budget](media/faces-of-the-budget.png \"Faces of the Federal Budget\")\n",
      "[Faces of the Federal Budget](https://www.nationalpriorities.org/stories/map/us/ \"Faces of the Federal Budget\")"
     ]
    },
    {
     "cell_type": "markdown",
     "metadata": {
      "slideshow": {
       "slide_type": "slide"
      }
     },
     "source": [
      "![NPP State Smart](media/state-smart-tax.png \"NPP State Smart\") \n",
      "[NPP State Smart](http://nationalpriorities.org/smart \"State Smart\")"
     ]
    },
    {
     "cell_type": "markdown",
     "metadata": {
      "slideshow": {
       "slide_type": "slide"
      }
     },
     "source": [
      "![1994 Budget](media/budget-gao.png) \n",
      "[Cost of Tax Breaks](https://www.nationalpriorities.org/interactive-data/taxbreaks/2014/visualization/ \"Cost of Tax Breaks\")"
     ]
    },
    {
     "cell_type": "markdown",
     "metadata": {
      "slideshow": {
       "slide_type": "slide"
      }
     },
     "source": [
      "# Federal Government Data\n",
      "* [95 U.S. government agencies](http://web.archive.org/web/20130906073335/http://fedstats.gov/agencies/ \"FedStats\") do stats work\n",
      "* Open government mandates are forcing agencies to release \"exhaust\" data\n",
      "* Third paries reformat and mix government data to sell or give away"
     ]
    },
    {
     "cell_type": "markdown",
     "metadata": {
      "slideshow": {
       "slide_type": "slide"
      }
     },
     "source": [
      "![USASpending](media/usaspending-chip-ca.png \"USASpending\")"
     ]
    },
    {
     "cell_type": "markdown",
     "metadata": {
      "slideshow": {
       "slide_type": "slide"
      }
     },
     "source": [
      "# Questions?\n",
      "\n",
      "bsweger@nationalpriorities.org  \n",
      "413-584-9556  \n",
      "slides: [http://bit.ly/mth292](http://bit.ly/mth292)"
     ]
    }
   ],
   "metadata": {}
  }
 ]
}